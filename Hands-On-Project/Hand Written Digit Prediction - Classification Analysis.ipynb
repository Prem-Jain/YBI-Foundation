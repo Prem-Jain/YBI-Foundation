{
 "cells": [
  {
   "cell_type": "markdown",
   "id": "59cc3c2b",
   "metadata": {},
   "source": [
    "# Import Library"
   ]
  },
  {
   "cell_type": "code",
   "execution_count": 1,
   "id": "623a39e4",
   "metadata": {},
   "outputs": [],
   "source": [
    "import pandas as pd"
   ]
  },
  {
   "cell_type": "code",
   "execution_count": 2,
   "id": "95b2f8a3",
   "metadata": {},
   "outputs": [],
   "source": [
    "import numpy as np"
   ]
  },
  {
   "cell_type": "code",
   "execution_count": 3,
   "id": "faf67c9d",
   "metadata": {},
   "outputs": [],
   "source": [
    "import matplotlib.pyplot as plt"
   ]
  },
  {
   "cell_type": "markdown",
   "id": "4a5e2032",
   "metadata": {},
   "source": [
    "# Import Data"
   ]
  },
  {
   "cell_type": "code",
   "execution_count": 4,
   "id": "abadce61",
   "metadata": {},
   "outputs": [],
   "source": [
    "from sklearn.datasets import load_digits"
   ]
  },
  {
   "cell_type": "code",
   "execution_count": 5,
   "id": "51796732",
   "metadata": {},
   "outputs": [],
   "source": [
    "df = load_digits()"
   ]
  },
  {
   "cell_type": "code",
   "execution_count": 6,
   "id": "28787317",
   "metadata": {},
   "outputs": [
    {
     "data": {
      "image/png": "[encoded data removed]",
      "text/plain": [
       "<Figure size 720x216 with 4 Axes>"
      ]
     },
     "metadata": {
      "needs_background": "light"
     },
     "output_type": "display_data"
    }
   ],
   "source": [
    "_, axes = plt.subplots(nrows = 1, ncols = 4, figsize = (10, 3))\n",
    "for ax, image, label in zip(axes, df.images, df.target):\n",
    "    ax.set_axis_off()\n",
    "    ax.imshow(image, cmap=plt.cm.gray_r, interpolation = 'nearest')\n",
    "    ax.set_title('Training: %i' % label)"
   ]
  },
  {
   "cell_type": "markdown",
   "id": "afd0d7e5",
   "metadata": {},
   "source": [
    "# Data Preprocessing\n",
    "##### Flatten Image"
   ]
  },
  {
   "cell_type": "code",
   "execution_count": 7,
   "id": "1b8b097d",
   "metadata": {},
   "outputs": [
    {
     "data": {
      "text/plain": [
       "(1797, 8, 8)"
      ]
     },
     "execution_count": 7,
     "metadata": {},
     "output_type": "execute_result"
    }
   ],
   "source": [
    "df.images.shape"
   ]
  },
  {
   "cell_type": "code",
   "execution_count": 8,
   "id": "d8b315ad",
   "metadata": {},
   "outputs": [
    {
     "data": {
      "text/plain": [
       "array([[ 0.,  0.,  5., 13.,  9.,  1.,  0.,  0.],\n",
       "       [ 0.,  0., 13., 15., 10., 15.,  5.,  0.],\n",
       "       [ 0.,  3., 15.,  2.,  0., 11.,  8.,  0.],\n",
       "       [ 0.,  4., 12.,  0.,  0.,  8.,  8.,  0.],\n",
       "       [ 0.,  5.,  8.,  0.,  0.,  9.,  8.,  0.],\n",
       "       [ 0.,  4., 11.,  0.,  1., 12.,  7.,  0.],\n",
       "       [ 0.,  2., 14.,  5., 10., 12.,  0.,  0.],\n",
       "       [ 0.,  0.,  6., 13., 10.,  0.,  0.,  0.]])"
      ]
     },
     "execution_count": 8,
     "metadata": {},
     "output_type": "execute_result"
    }
   ],
   "source": [
    "df.images[0]"
   ]
  },
  {
   "cell_type": "code",
   "execution_count": 9,
   "id": "0732a722",
   "metadata": {},
   "outputs": [
    {
     "data": {
      "text/plain": [
       "(8, 8)"
      ]
     },
     "execution_count": 9,
     "metadata": {},
     "output_type": "execute_result"
    }
   ],
   "source": [
    "df.images[0].shape"
   ]
  },
  {
   "cell_type": "code",
   "execution_count": 10,
   "id": "874251bc",
   "metadata": {},
   "outputs": [],
   "source": [
    "n_samples = len(df.images)\n",
    "data = df.images.reshape((n_samples, -1))"
   ]
  },
  {
   "cell_type": "code",
   "execution_count": 11,
   "id": "4de06991",
   "metadata": {},
   "outputs": [
    {
     "data": {
      "text/plain": [
       "array([ 0.,  0.,  5., 13.,  9.,  1.,  0.,  0.,  0.,  0., 13., 15., 10.,\n",
       "       15.,  5.,  0.,  0.,  3., 15.,  2.,  0., 11.,  8.,  0.,  0.,  4.,\n",
       "       12.,  0.,  0.,  8.,  8.,  0.,  0.,  5.,  8.,  0.,  0.,  9.,  8.,\n",
       "        0.,  0.,  4., 11.,  0.,  1., 12.,  7.,  0.,  0.,  2., 14.,  5.,\n",
       "       10., 12.,  0.,  0.,  0.,  0.,  6., 13., 10.,  0.,  0.,  0.])"
      ]
     },
     "execution_count": 11,
     "metadata": {},
     "output_type": "execute_result"
    }
   ],
   "source": [
    "data[0]"
   ]
  },
  {
   "cell_type": "code",
   "execution_count": 12,
   "id": "59e2aa86",
   "metadata": {},
   "outputs": [
    {
     "data": {
      "text/plain": [
       "(64,)"
      ]
     },
     "execution_count": 12,
     "metadata": {},
     "output_type": "execute_result"
    }
   ],
   "source": [
    "data[0].shape"
   ]
  },
  {
   "cell_type": "code",
   "execution_count": 13,
   "id": "4bcc51e5",
   "metadata": {},
   "outputs": [
    {
     "data": {
      "text/plain": [
       "(1797, 64)"
      ]
     },
     "execution_count": 13,
     "metadata": {},
     "output_type": "execute_result"
    }
   ],
   "source": [
    "data.shape"
   ]
  },
  {
   "cell_type": "markdown",
   "id": "2596a62d",
   "metadata": {},
   "source": [
    "# Scaling Data"
   ]
  },
  {
   "cell_type": "code",
   "execution_count": 14,
   "id": "c5cc7c78",
   "metadata": {},
   "outputs": [
    {
     "data": {
      "text/plain": [
       "0.0"
      ]
     },
     "execution_count": 14,
     "metadata": {},
     "output_type": "execute_result"
    }
   ],
   "source": [
    "data.min()"
   ]
  },
  {
   "cell_type": "code",
   "execution_count": 15,
   "id": "3859d9fd",
   "metadata": {},
   "outputs": [
    {
     "data": {
      "text/plain": [
       "16.0"
      ]
     },
     "execution_count": 15,
     "metadata": {},
     "output_type": "execute_result"
    }
   ],
   "source": [
    "data.max()"
   ]
  },
  {
   "cell_type": "code",
   "execution_count": 16,
   "id": "0f55a97e",
   "metadata": {},
   "outputs": [],
   "source": [
    "data = data/16"
   ]
  },
  {
   "cell_type": "code",
   "execution_count": 17,
   "id": "61c9cc6a",
   "metadata": {},
   "outputs": [
    {
     "data": {
      "text/plain": [
       "0.0"
      ]
     },
     "execution_count": 17,
     "metadata": {},
     "output_type": "execute_result"
    }
   ],
   "source": [
    "data.min()"
   ]
  },
  {
   "cell_type": "code",
   "execution_count": 18,
   "id": "c3b7bc5a",
   "metadata": {
    "scrolled": true
   },
   "outputs": [
    {
     "data": {
      "text/plain": [
       "1.0"
      ]
     },
     "execution_count": 18,
     "metadata": {},
     "output_type": "execute_result"
    }
   ],
   "source": [
    "data.max()"
   ]
  },
  {
   "cell_type": "code",
   "execution_count": 19,
   "id": "647a3e12",
   "metadata": {},
   "outputs": [
    {
     "data": {
      "text/plain": [
       "array([0.    , 0.    , 0.3125, 0.8125, 0.5625, 0.0625, 0.    , 0.    ,\n",
       "       0.    , 0.    , 0.8125, 0.9375, 0.625 , 0.9375, 0.3125, 0.    ,\n",
       "       0.    , 0.1875, 0.9375, 0.125 , 0.    , 0.6875, 0.5   , 0.    ,\n",
       "       0.    , 0.25  , 0.75  , 0.    , 0.    , 0.5   , 0.5   , 0.    ,\n",
       "       0.    , 0.3125, 0.5   , 0.    , 0.    , 0.5625, 0.5   , 0.    ,\n",
       "       0.    , 0.25  , 0.6875, 0.    , 0.0625, 0.75  , 0.4375, 0.    ,\n",
       "       0.    , 0.125 , 0.875 , 0.3125, 0.625 , 0.75  , 0.    , 0.    ,\n",
       "       0.    , 0.    , 0.375 , 0.8125, 0.625 , 0.    , 0.    , 0.    ])"
      ]
     },
     "execution_count": 19,
     "metadata": {},
     "output_type": "execute_result"
    }
   ],
   "source": [
    "data[0]"
   ]
  },
  {
   "cell_type": "markdown",
   "id": "3eca0bdd",
   "metadata": {},
   "source": [
    "# Train test split Data"
   ]
  },
  {
   "cell_type": "code",
   "execution_count": 20,
   "id": "5ae781bc",
   "metadata": {},
   "outputs": [],
   "source": [
    "from sklearn.model_selection import train_test_split"
   ]
  },
  {
   "cell_type": "code",
   "execution_count": 21,
   "id": "616cd7f8",
   "metadata": {},
   "outputs": [],
   "source": [
    "xtrain, xtest, ytrain, ytest = train_test_split(data, df.target, test_size = 0.3)"
   ]
  },
  {
   "cell_type": "code",
   "execution_count": 22,
   "id": "4a4005c5",
   "metadata": {},
   "outputs": [
    {
     "data": {
      "text/plain": [
       "((1257, 64), (540, 64), (1257,), (540,))"
      ]
     },
     "execution_count": 22,
     "metadata": {},
     "output_type": "execute_result"
    }
   ],
   "source": [
    "xtrain.shape, xtest.shape, ytrain.shape, ytest.shape"
   ]
  },
  {
   "cell_type": "markdown",
   "id": "def560b5",
   "metadata": {},
   "source": [
    "# Random Forest model"
   ]
  },
  {
   "cell_type": "code",
   "execution_count": 23,
   "id": "44b0a974",
   "metadata": {},
   "outputs": [],
   "source": [
    "from sklearn.ensemble import RandomForestClassifier"
   ]
  },
  {
   "cell_type": "code",
   "execution_count": 24,
   "id": "274cf735",
   "metadata": {},
   "outputs": [],
   "source": [
    "rf = RandomForestClassifier()"
   ]
  },
  {
   "cell_type": "code",
   "execution_count": 25,
   "id": "ae8ba976",
   "metadata": {},
   "outputs": [
    {
     "data": {
      "text/plain": [
       "RandomForestClassifier()"
      ]
     },
     "execution_count": 25,
     "metadata": {},
     "output_type": "execute_result"
    }
   ],
   "source": [
    "rf.fit(xtrain, ytrain)"
   ]
  },
  {
   "cell_type": "markdown",
   "id": "15698545",
   "metadata": {},
   "source": [
    "# Predict Test Data"
   ]
  },
  {
   "cell_type": "code",
   "execution_count": 26,
   "id": "820ac373",
   "metadata": {},
   "outputs": [],
   "source": [
    "y_pred = rf.predict(xtest)"
   ]
  },
  {
   "cell_type": "code",
   "execution_count": 27,
   "id": "98d612d7",
   "metadata": {},
   "outputs": [
    {
     "data": {
      "text/plain": [
       "array([2, 6, 1, 1, 8, 6, 7, 7, 3, 1, 1, 8, 6, 7, 1, 7, 6, 6, 6, 3, 8, 9,\n",
       "       9, 2, 8, 0, 6, 8, 0, 4, 5, 1, 7, 5, 7, 2, 4, 8, 9, 9, 9, 8, 5, 0,\n",
       "       9, 0, 1, 6, 5, 5, 5, 3, 2, 7, 3, 3, 7, 2, 1, 4, 2, 4, 7, 0, 6, 6,\n",
       "       7, 2, 5, 4, 6, 7, 5, 1, 2, 5, 8, 6, 3, 6, 6, 2, 8, 0, 1, 0, 2, 7,\n",
       "       0, 4, 5, 3, 3, 8, 3, 3, 0, 5, 5, 5, 4, 2, 8, 0, 8, 2, 4, 6, 1, 9,\n",
       "       4, 7, 9, 7, 7, 3, 5, 6, 1, 3, 5, 4, 7, 9, 1, 1, 9, 8, 7, 6, 3, 5,\n",
       "       4, 4, 5, 7, 6, 7, 9, 0, 9, 8, 7, 4, 9, 9, 7, 8, 7, 5, 9, 4, 8, 6,\n",
       "       2, 8, 4, 6, 3, 8, 4, 1, 7, 5, 3, 7, 0, 7, 8, 8, 1, 6, 9, 4, 8, 6,\n",
       "       9, 4, 3, 4, 5, 7, 9, 2, 6, 1, 9, 6, 2, 5, 8, 3, 6, 6, 4, 3, 1, 7,\n",
       "       2, 4, 7, 6, 3, 5, 6, 4, 9, 6, 2, 8, 9, 2, 5, 6, 3, 3, 2, 8, 6, 9,\n",
       "       0, 9, 1, 7, 5, 0, 7, 5, 7, 8, 8, 3, 8, 7, 7, 2, 5, 8, 1, 4, 8, 5,\n",
       "       7, 1, 8, 9, 6, 0, 7, 4, 4, 4, 7, 8, 8, 2, 9, 4, 2, 4, 8, 3, 9, 4,\n",
       "       4, 7, 7, 9, 6, 6, 7, 4, 9, 7, 6, 0, 0, 1, 8, 1, 7, 1, 9, 4, 8, 8,\n",
       "       7, 3, 7, 2, 0, 3, 4, 9, 2, 3, 5, 2, 6, 2, 4, 5, 9, 5, 0, 3, 7, 6,\n",
       "       7, 5, 5, 7, 7, 3, 0, 1, 3, 5, 2, 1, 9, 0, 0, 8, 9, 8, 6, 1, 0, 6,\n",
       "       9, 1, 1, 4, 2, 5, 1, 9, 7, 9, 2, 2, 3, 4, 3, 0, 5, 1, 5, 0, 6, 6,\n",
       "       6, 8, 0, 8, 6, 2, 8, 2, 1, 2, 8, 5, 3, 0, 7, 3, 6, 1, 3, 9, 8, 5,\n",
       "       9, 0, 2, 4, 4, 9, 1, 5, 7, 0, 8, 9, 8, 5, 6, 8, 2, 8, 1, 0, 2, 1,\n",
       "       1, 0, 3, 5, 5, 9, 8, 9, 4, 3, 2, 3, 4, 6, 8, 4, 3, 8, 8, 1, 3, 8,\n",
       "       9, 8, 9, 0, 2, 3, 1, 0, 0, 5, 9, 2, 4, 7, 2, 7, 7, 3, 8, 2, 8, 0,\n",
       "       3, 6, 9, 4, 7, 6, 9, 6, 9, 6, 1, 0, 9, 8, 0, 2, 9, 2, 5, 2, 5, 8,\n",
       "       0, 6, 6, 7, 7, 8, 2, 2, 2, 1, 8, 3, 2, 7, 4, 4, 6, 9, 4, 6, 9, 7,\n",
       "       2, 0, 1, 9, 4, 7, 5, 0, 9, 8, 1, 1, 0, 1, 8, 3, 7, 9, 6, 7, 9, 9,\n",
       "       0, 7, 1, 9, 0, 6, 6, 4, 5, 1, 8, 3, 6, 0, 8, 4, 0, 7, 4, 7, 5, 5,\n",
       "       7, 2, 8, 6, 1, 7, 0, 5, 0, 9, 6, 6])"
      ]
     },
     "execution_count": 27,
     "metadata": {},
     "output_type": "execute_result"
    }
   ],
   "source": [
    "y_pred"
   ]
  },
  {
   "cell_type": "markdown",
   "id": "37bd5215",
   "metadata": {},
   "source": [
    "# Model Accuracy"
   ]
  },
  {
   "cell_type": "code",
   "execution_count": 28,
   "id": "651bcf95",
   "metadata": {},
   "outputs": [],
   "source": [
    "from sklearn.metrics import confusion_matrix, classification_report"
   ]
  },
  {
   "cell_type": "code",
   "execution_count": 29,
   "id": "e89794b9",
   "metadata": {},
   "outputs": [
    {
     "data": {
      "text/plain": [
       "array([[47,  0,  0,  0,  2,  0,  0,  0,  0,  0],\n",
       "       [ 0, 46,  0,  0,  0,  0,  0,  0,  0,  0],\n",
       "       [ 0,  0, 50,  0,  0,  0,  0,  0,  0,  0],\n",
       "       [ 0,  0,  0, 43,  0,  1,  0,  3,  2,  0],\n",
       "       [ 0,  0,  0,  0, 48,  0,  0,  1,  0,  0],\n",
       "       [ 0,  0,  0,  0,  0, 49,  0,  0,  0,  0],\n",
       "       [ 0,  1,  0,  0,  0,  0, 61,  0,  0,  0],\n",
       "       [ 0,  0,  0,  0,  0,  0,  0, 60,  0,  0],\n",
       "       [ 0,  1,  0,  1,  0,  0,  0,  1, 61,  0],\n",
       "       [ 0,  0,  0,  1,  0,  0,  0,  1,  1, 59]], dtype=int64)"
      ]
     },
     "execution_count": 29,
     "metadata": {},
     "output_type": "execute_result"
    }
   ],
   "source": [
    "confusion_matrix(ytest, y_pred)"
   ]
  },
  {
   "cell_type": "code",
   "execution_count": 30,
   "id": "9b4d424b",
   "metadata": {},
   "outputs": [
    {
     "name": "stdout",
     "output_type": "stream",
     "text": [
      "              precision    recall  f1-score   support\n",
      "\n",
      "           0       1.00      0.96      0.98        49\n",
      "           1       0.96      1.00      0.98        46\n",
      "           2       1.00      1.00      1.00        50\n",
      "           3       0.96      0.88      0.91        49\n",
      "           4       0.96      0.98      0.97        49\n",
      "           5       0.98      1.00      0.99        49\n",
      "           6       1.00      0.98      0.99        62\n",
      "           7       0.91      1.00      0.95        60\n",
      "           8       0.95      0.95      0.95        64\n",
      "           9       1.00      0.95      0.98        62\n",
      "\n",
      "    accuracy                           0.97       540\n",
      "   macro avg       0.97      0.97      0.97       540\n",
      "weighted avg       0.97      0.97      0.97       540\n",
      "\n"
     ]
    }
   ],
   "source": [
    "print(classification_report(ytest, y_pred))"
   ]
  },
  {
   "cell_type": "code",
   "execution_count": null,
   "id": "63ecb5ac",
   "metadata": {},
   "outputs": [],
   "source": []
  }
 ],
 "metadata": {
  "kernelspec": {
   "display_name": "Python 3 (ipykernel)",
   "language": "python",
   "name": "python3"
  },
  "language_info": {
   "codemirror_mode": {
    "name": "ipython",
    "version": 3
   },
   "file_extension": ".py",
   "mimetype": "text/x-python",
   "name": "python",
   "nbconvert_exporter": "python",
   "pygments_lexer": "ipython3",
   "version": "3.8.12"
  }
 },
 "nbformat": 4,
 "nbformat_minor": 5
}
